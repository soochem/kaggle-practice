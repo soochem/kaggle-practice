{
 "cells": [
  {
   "cell_type": "code",
   "execution_count": 4,
   "metadata": {
    "scrolled": true
   },
   "outputs": [],
   "source": [
    "import collections\n",
    "import json\n",
    "import sys\n",
    "import os\n",
    "\n",
    "import numpy as np\n",
    "import pandas as pd\n",
    "import tensorflow as tf\n",
    "# BERT\n",
    "import torch\n",
    "from torch.utils.data import TensorDataset, DataLoader, RandomSampler, SequentialSampler\n",
    "# from keras.preprocessing.sequence import pad_sequences\n",
    "from sklearn.model_selection import train_test_split\n",
    "# pip install pytorch-pretrained-bert?\n",
    "# pip install transformers\n",
    "from transformers import BertTokenizer, BertConfig\n",
    "# BertAdam => AdamW\n",
    "from transformers import AdamW, BertForSequenceClassification\n",
    "from tqdm import tqdm, trange\n",
    "import io\n",
    "import numpy as np\n",
    "import matplotlib.pyplot as plt"
   ]
  },
  {
   "cell_type": "code",
   "execution_count": 5,
   "metadata": {},
   "outputs": [
    {
     "data": {
      "text/plain": [
       "'GeForce MX150'"
      ]
     },
     "execution_count": 5,
     "metadata": {},
     "output_type": "execute_result"
    }
   ],
   "source": [
    "# specify GPU device\n",
    "device = torch.device(\"cuda\" if torch.cuda.is_available() else \"cpu\")\n",
    "n_gpu = torch.cuda.device_count()\n",
    "torch.cuda.get_device_name(0)"
   ]
  },
  {
   "cell_type": "markdown",
   "metadata": {},
   "source": [
    "# Read Json\n",
    "Read .jsonl\n",
    "- http://jsonlines.org/\n",
    "\n",
    "```\n",
    "import json\n",
    "with open('./data/my_filename.jsonl', 'r') as json_file:\n",
    "    json_list = list(json_file)\n",
    "for json_str in json_list:\n",
    "    result = json.loads(json_str)\n",
    "    print(\"result: {}\".format(result))\n",
    "    print(isinstance(result, dict))\n",
    "```\n",
    "\n",
    "- Json Keys\n",
    "    - train : 'example_id', 'document_text', 'long_answer_candidates', 'question_text', 'annotations', 'document_url'\n",
    "    - test : 'example_id', 'question_text', 'document_text', 'long_answer_candidates'"
   ]
  },
  {
   "cell_type": "code",
   "execution_count": 36,
   "metadata": {},
   "outputs": [],
   "source": [
    "def read_line(line):\n",
    "    # without saving in Memory : object_pairs_hook=collections.OrderedDict\n",
    "    dum = json.loads(line, object_pairs_hook=collections.OrderedDict)\n",
    "    return dum\n",
    "\n",
    "def keys_jsonl(path):\n",
    "    i = 0\n",
    "    input_data = []\n",
    "    with open(path, 'r') as input_file:\n",
    "        i += 1\n",
    "        print(str(i))\n",
    "        if (i == 2):\n",
    "            return input_data\n",
    "        for line in input_file:\n",
    "            input_data.append(read_line(line).keys())\n",
    "            return input_data\n",
    "\n",
    "def safe_read_jsonl(path):\n",
    "    i = 0\n",
    "    input_data = []\n",
    "    with open(path, 'r') as input_file:\n",
    "        i += 1\n",
    "        print(str(i))\n",
    "        if (i == 2):\n",
    "            return input_data\n",
    "        for line in input_file:\n",
    "            input_data.append(read_line(line))\n",
    "    return input_data\n",
    "\n",
    "def read_jsonl(path):\n",
    "    input_data = []\n",
    "    with open(path, 'r') as input_file:\n",
    "        for line in input_file:\n",
    "            input_data.append(read_line(line))\n",
    "    return input_data"
   ]
  },
  {
   "cell_type": "code",
   "execution_count": 37,
   "metadata": {},
   "outputs": [],
   "source": [
    "test_json = read_jsonl('data/simplified-nq-test.jsonl')"
   ]
  },
  {
   "cell_type": "code",
   "execution_count": 38,
   "metadata": {},
   "outputs": [
    {
     "data": {
      "text/plain": [
       "odict_keys(['example_id', 'question_text', 'document_text', 'long_answer_candidates'])"
      ]
     },
     "execution_count": 38,
     "metadata": {},
     "output_type": "execute_result"
    }
   ],
   "source": [
    "test_json[0].keys()"
   ]
  },
  {
   "cell_type": "code",
   "execution_count": 39,
   "metadata": {},
   "outputs": [
    {
     "name": "stdout",
     "output_type": "stream",
     "text": [
      "1\n"
     ]
    }
   ],
   "source": [
    "train_json = keys_jsonl('data/simplified-nq-train.jsonl')"
   ]
  },
  {
   "cell_type": "code",
   "execution_count": 40,
   "metadata": {},
   "outputs": [
    {
     "data": {
      "text/plain": [
       "odict_keys(['document_text', 'long_answer_candidates', 'question_text', 'annotations', 'document_url', 'example_id'])"
      ]
     },
     "execution_count": 40,
     "metadata": {},
     "output_type": "execute_result"
    }
   ],
   "source": [
    "train_json[0]"
   ]
  },
  {
   "cell_type": "code",
   "execution_count": 3,
   "metadata": {},
   "outputs": [],
   "source": [
    "query_data_train = [\"hi\"]"
   ]
  },
  {
   "cell_type": "code",
   "execution_count": 4,
   "metadata": {},
   "outputs": [
    {
     "name": "stderr",
     "output_type": "stream",
     "text": [
      "Enabling notebook extension jupyter-js-widgets/extension...\n",
      "      - Validating: ok\n"
     ]
    }
   ],
   "source": [
    "# ! jupyter nbextension enable --py widgetsnbextension"
   ]
  },
  {
   "cell_type": "code",
   "execution_count": 6,
   "metadata": {},
   "outputs": [
    {
     "name": "stdout",
     "output_type": "stream",
     "text": [
      "[CLS] hi [SEP]\n",
      "Tokenize the first sentence:\n",
      "['[CLS]', 'hi', '[SEP]']\n"
     ]
    }
   ],
   "source": [
    "# add special tokens for BERT to work properly\n",
    "sentences = [\"[CLS] \" + query + \" [SEP]\" for query in query_data_train]\n",
    "print(sentences[0])\n",
    "\n",
    "# Tokenize with BERT tokenizer\n",
    "tokenizer = BertTokenizer.from_pretrained('bert-base-uncased', do_lower_case=True)\n",
    "tokenized_texts = [tokenizer.tokenize(sent) for sent in sentences]\n",
    "print (\"Tokenize the first sentence:\")\n",
    "print (tokenized_texts[0])"
   ]
  },
  {
   "cell_type": "code",
   "execution_count": null,
   "metadata": {},
   "outputs": [],
   "source": []
  }
 ],
 "metadata": {
  "kernelspec": {
   "display_name": "kaggle",
   "language": "python",
   "name": "venv"
  },
  "language_info": {
   "codemirror_mode": {
    "name": "ipython",
    "version": 3
   },
   "file_extension": ".py",
   "mimetype": "text/x-python",
   "name": "python",
   "nbconvert_exporter": "python",
   "pygments_lexer": "ipython3",
   "version": "3.7.6"
  }
 },
 "nbformat": 4,
 "nbformat_minor": 4
}
